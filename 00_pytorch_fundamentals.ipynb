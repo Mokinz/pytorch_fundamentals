{
 "cells": [
  {
   "attachments": {},
   "cell_type": "markdown",
   "metadata": {},
   "source": [
    "# 00. PyTorch fundamentals\n",
    "\n",
    "Resorce notbook:\n",
    "    https://www.learnpytorch.io/00_pytorch_fundamentals/"
   ]
  },
  {
   "attachments": {},
   "cell_type": "markdown",
   "metadata": {},
   "source": [
    "### How to integrate your GPU with PyTorch and check if all is setup correctly"
   ]
  },
  {
   "cell_type": "code",
   "execution_count": 15,
   "metadata": {},
   "outputs": [],
   "source": [
    "# Import pytorch library\n",
    "import torch"
   ]
  },
  {
   "cell_type": "code",
   "execution_count": 16,
   "metadata": {
    "tags": []
   },
   "outputs": [
    {
     "data": {
      "text/plain": [
       "True"
      ]
     },
     "execution_count": 16,
     "metadata": {},
     "output_type": "execute_result"
    }
   ],
   "source": [
    "# Check if GPU is available\n",
    "torch.cuda.is_available()"
   ]
  },
  {
   "cell_type": "code",
   "execution_count": 17,
   "metadata": {
    "tags": []
   },
   "outputs": [
    {
     "data": {
      "text/plain": [
       "1"
      ]
     },
     "execution_count": 17,
     "metadata": {},
     "output_type": "execute_result"
    }
   ],
   "source": [
    "# Check how many GPUs are available\n",
    "torch.cuda.device_count()"
   ]
  },
  {
   "cell_type": "code",
   "execution_count": 18,
   "metadata": {
    "tags": []
   },
   "outputs": [
    {
     "data": {
      "text/plain": [
       "0"
      ]
     },
     "execution_count": 18,
     "metadata": {},
     "output_type": "execute_result"
    }
   ],
   "source": [
    "# Check index of selected GPU\n",
    "torch.cuda.current_device()"
   ]
  },
  {
   "cell_type": "code",
   "execution_count": 19,
   "metadata": {},
   "outputs": [
    {
     "data": {
      "text/plain": [
       "_CudaDeviceProperties(name='NVIDIA GeForce RTX 3080', major=8, minor=6, total_memory=10239MB, multi_processor_count=68)"
      ]
     },
     "execution_count": 19,
     "metadata": {},
     "output_type": "execute_result"
    }
   ],
   "source": [
    "# Check index of selected GPU\n",
    "torch.cuda.get_device_properties('cuda:0')"
   ]
  },
  {
   "cell_type": "code",
   "execution_count": 20,
   "metadata": {},
   "outputs": [
    {
     "data": {
      "text/plain": [
       "'NVIDIA GeForce RTX 3080'"
      ]
     },
     "execution_count": 20,
     "metadata": {},
     "output_type": "execute_result"
    }
   ],
   "source": [
    "# Get a name of GPU to check if it's right\n",
    "torch.cuda.get_device_name(0)"
   ]
  },
  {
   "cell_type": "code",
   "execution_count": 21,
   "metadata": {},
   "outputs": [],
   "source": [
    "# Select GPU device if available\n",
    "device = torch.device('cuda' if torch.cuda.is_available() else 'cpu')"
   ]
  },
  {
   "cell_type": "code",
   "execution_count": 22,
   "metadata": {},
   "outputs": [
    {
     "name": "stdout",
     "output_type": "stream",
     "text": [
      "Sample tensor is on:  cpu\n"
     ]
    }
   ],
   "source": [
    "# Create a tensor with random values \n",
    "sample_tensor = torch.rand(0, 10)\n",
    "print('Sample tensor is on: ', sample_tensor.device)"
   ]
  },
  {
   "cell_type": "code",
   "execution_count": 23,
   "metadata": {},
   "outputs": [
    {
     "name": "stdout",
     "output_type": "stream",
     "text": [
      "Sample tensor is on:  cuda:0\n"
     ]
    }
   ],
   "source": [
    "# Moving tensor to the GPU\n",
    "sample_tensor = sample_tensor.to(device)\n",
    "print('Sample tensor is on: ', sample_tensor.device)"
   ]
  },
  {
   "attachments": {},
   "cell_type": "markdown",
   "metadata": {},
   "source": [
    "### Introduction to tensors "
   ]
  },
  {
   "cell_type": "code",
   "execution_count": 24,
   "metadata": {},
   "outputs": [],
   "source": [
    "# Importing most used libraries for datascience and machine learning \n",
    "import torch\n",
    "import numpy as np\n",
    "import pandas as pd                                                                                                                                    \n",
    "import matplotlib.pyplot as plt\n"
   ]
  },
  {
   "attachments": {},
   "cell_type": "markdown",
   "metadata": {
    "tags": []
   },
   "source": [
    "#### About tensors\n",
    "\n",
    "Documentation: https://pytorch.org/docs/stable/tensors.html\n",
    "\n",
    "Tensors are basically just another way to represent the data, and a tensor representation as matrixes is convienent way to do it. For example, if there's a tensor without any dimensions (ndim == 0) it means that's just a value a.k.a. \"scalar\". We can call it a \"rank zero\" tensor. Remeber that matrixes are not tensors - it's just a way to represent them. In PyTorch it looks something like this:\n"
   ]
  },
  {
   "cell_type": "code",
   "execution_count": 25,
   "metadata": {},
   "outputs": [
    {
     "name": "stdout",
     "output_type": "stream",
     "text": [
      "tensor(5)\n",
      "0\n",
      "5\n"
     ]
    }
   ],
   "source": [
    "# Creating a scalar\n",
    "scalar = torch.tensor(5)\n",
    "\n",
    "# Checking if the scalar has been created correctly. Should return tensor(5) (As it is a tensor object with value 5)\n",
    "print(scalar)\n",
    "\n",
    "# Checking scalar's number of dimensions (should be equeal to 0)\n",
    "print(scalar.ndim)\n",
    "\n",
    "# Getting tensor's value as a python int \n",
    "print(scalar.item())"
   ]
  },
  {
   "attachments": {},
   "cell_type": "markdown",
   "metadata": {},
   "source": [
    "But if we wanted to create a vector, which have magnitude and direction, we need at least one dimension. For example:"
   ]
  },
  {
   "cell_type": "code",
   "execution_count": 26,
   "metadata": {},
   "outputs": [
    {
     "name": "stdout",
     "output_type": "stream",
     "text": [
      "tensor([4, 4])\n",
      "1\n"
     ]
    }
   ],
   "source": [
    "# Creating a vector\n",
    "vector = torch.tensor([4, 4])\n",
    "\n",
    "# Checking if the vector has been created correctly. Should return tensor([7, 7]) (As it is a tensor object with value [7, 7])\n",
    "print(vector)\n",
    "\n",
    "# Checking vector's number of dimensions (should be equeal to 0)\n",
    "print(vector.ndim)\n"
   ]
  },
  {
   "attachments": {},
   "cell_type": "markdown",
   "metadata": {},
   "source": [
    "As we can see the dimension now equeals to one. That's because we have one square bracket list at value initialisation. But one dimensional vector isn't really useful as we live in three dimensional space with one additional time dimension. This vector can only exists on a single number axis. \n",
    "If we want to solve real life problems we need to be comfortable to deal with three dimensional vectors. In physics there is a way to represent a random vector as a sum of other vectors. For example let's assume that we have a vector named \"A\". It can be represented as a sum of other vectors that are just products of the main one:\n",
    "\n",
    "    A = A_x + A_y + A_z or A = [A_x, A_y, A_z] # you can use either commas or plus signs - it's just a notation thing \n",
    "\n",
    "They have x, y and z indexes beacuse each of them is pararell to the axis it indicates.\n",
    "\n",
    "Each of the components can be represented as seprate vector:\n",
    "\n",
    "    A_x = x * i where \"i\" is an unit vector (or \"versor\") which is a vector of a length of 1 pararell to x axis and x is just a scalar.\n",
    "    A_y = y * j \n",
    "    A_z = z * k\n",
    "\n",
    "Therefore vector A can be wrtitten as:\n",
    "\n",
    "    A = [x*i, y*j, z*k]\n",
    "\n",
    "More on tensors:\n",
    "\n",
    "1. https://www.youtube.com/watch?v=f5liqUk0ZTw\n",
    "2. https://www.youtube.com/watch?v=bpG3gqDM80w&t\n",
    "\n",
    "To create a three dimensional vector we need to add more components when creating our tensor. For example:"
   ]
  },
  {
   "cell_type": "code",
   "execution_count": 29,
   "metadata": {},
   "outputs": [
    {
     "name": "stdout",
     "output_type": "stream",
     "text": [
      "tensor([[[1, 2],\n",
      "         [5, 6],\n",
      "         [7, 8]]])\n",
      "3\n",
      "torch.Size([1, 3, 2])\n"
     ]
    }
   ],
   "source": [
    "# Creating a 3D vector (rank 1 tensor in 3 dimensions)\n",
    "vector_3d = torch.tensor([[[1, 2],\n",
    "                            [5, 6],\n",
    "                            [7, 8]]])\n",
    "\n",
    "# Checking if the vector has been created correctly. \n",
    "print(vector_3d)\n",
    "\n",
    "# Checking vector's number of dimensions \n",
    "print(vector_3d.ndim)\n",
    "\n",
    "# Checking a size of a tensor \n",
    "print(vector_3d.shape)"
   ]
  }
 ],
 "metadata": {
  "kernelspec": {
   "display_name": "base",
   "language": "python",
   "name": "python3"
  },
  "language_info": {
   "codemirror_mode": {
    "name": "ipython",
    "version": 3
   },
   "file_extension": ".py",
   "mimetype": "text/x-python",
   "name": "python",
   "nbconvert_exporter": "python",
   "pygments_lexer": "ipython3",
   "version": "3.9.13"
  },
  "orig_nbformat": 4,
  "vscode": {
   "interpreter": {
    "hash": "a0dfddf38355eb1c7bbdbf09c07de05c9912bc8a91970103b0afd28feba3a117"
   }
  }
 },
 "nbformat": 4,
 "nbformat_minor": 2
}

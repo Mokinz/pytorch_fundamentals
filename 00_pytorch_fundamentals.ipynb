{
 "cells": [
  {
   "attachments": {},
   "cell_type": "markdown",
   "metadata": {},
   "source": [
    "# 00. PyTorch fundamentals\n",
    "\n",
    "Resource notebook:\n",
    "    https://www.learnpytorch.io/00_pytorch_fundamentals/"
   ]
  },
  {
   "attachments": {},
   "cell_type": "markdown",
   "metadata": {},
   "source": [
    "### How to integrate your GPU with PyTorch and check if all is setup correctly"
   ]
  },
  {
   "cell_type": "code",
   "execution_count": 1,
   "metadata": {},
   "outputs": [],
   "source": [
    "# Import pytorch library\n",
    "import torch"
   ]
  },
  {
   "cell_type": "code",
   "execution_count": 2,
   "metadata": {
    "tags": []
   },
   "outputs": [
    {
     "data": {
      "text/plain": [
       "True"
      ]
     },
     "execution_count": 2,
     "metadata": {},
     "output_type": "execute_result"
    }
   ],
   "source": [
    "# Check if GPU is available\n",
    "torch.cuda.is_available()"
   ]
  },
  {
   "cell_type": "code",
   "execution_count": 3,
   "metadata": {
    "tags": []
   },
   "outputs": [
    {
     "data": {
      "text/plain": [
       "1"
      ]
     },
     "execution_count": 3,
     "metadata": {},
     "output_type": "execute_result"
    }
   ],
   "source": [
    "# Check how many GPUs are available\n",
    "torch.cuda.device_count()"
   ]
  },
  {
   "cell_type": "code",
   "execution_count": 4,
   "metadata": {
    "tags": []
   },
   "outputs": [
    {
     "data": {
      "text/plain": [
       "0"
      ]
     },
     "execution_count": 4,
     "metadata": {},
     "output_type": "execute_result"
    }
   ],
   "source": [
    "# Check index of selected GPU\n",
    "torch.cuda.current_device()"
   ]
  },
  {
   "cell_type": "code",
   "execution_count": 5,
   "metadata": {},
   "outputs": [
    {
     "data": {
      "text/plain": [
       "_CudaDeviceProperties(name='NVIDIA GeForce RTX 3080', major=8, minor=6, total_memory=10239MB, multi_processor_count=68)"
      ]
     },
     "execution_count": 5,
     "metadata": {},
     "output_type": "execute_result"
    }
   ],
   "source": [
    "# Check index of selected GPU\n",
    "torch.cuda.get_device_properties('cuda:0')"
   ]
  },
  {
   "cell_type": "code",
   "execution_count": 6,
   "metadata": {},
   "outputs": [
    {
     "data": {
      "text/plain": [
       "'NVIDIA GeForce RTX 3080'"
      ]
     },
     "execution_count": 6,
     "metadata": {},
     "output_type": "execute_result"
    }
   ],
   "source": [
    "# Get a name of GPU to check if it's right\n",
    "torch.cuda.get_device_name(0)"
   ]
  },
  {
   "cell_type": "code",
   "execution_count": 7,
   "metadata": {},
   "outputs": [],
   "source": [
    "# Select GPU device if available\n",
    "device = torch.device('cuda' if torch.cuda.is_available() else 'cpu')"
   ]
  },
  {
   "cell_type": "code",
   "execution_count": 8,
   "metadata": {},
   "outputs": [
    {
     "name": "stdout",
     "output_type": "stream",
     "text": [
      "Sample tensor is on:  cpu\n"
     ]
    }
   ],
   "source": [
    "# Create a tensor with random values \n",
    "sample_tensor = torch.rand(0, 10)\n",
    "print('Sample tensor is on: ', sample_tensor.device)"
   ]
  },
  {
   "cell_type": "code",
   "execution_count": 9,
   "metadata": {},
   "outputs": [
    {
     "name": "stdout",
     "output_type": "stream",
     "text": [
      "Sample tensor is on:  cuda:0\n"
     ]
    }
   ],
   "source": [
    "# Moving tensor to the GPU\n",
    "sample_tensor = sample_tensor.to(device)\n",
    "print('Sample tensor is on: ', sample_tensor.device)"
   ]
  },
  {
   "attachments": {},
   "cell_type": "markdown",
   "metadata": {},
   "source": [
    "### Introduction to tensors "
   ]
  },
  {
   "cell_type": "code",
   "execution_count": 10,
   "metadata": {},
   "outputs": [],
   "source": [
    "# Importing most used libraries for data science and machine learning \n",
    "import torch\n",
    "import numpy as np\n",
    "import pandas as pd                                                                                                                                    \n",
    "import matplotlib.pyplot as plt\n"
   ]
  },
  {
   "attachments": {},
   "cell_type": "markdown",
   "metadata": {
    "tags": []
   },
   "source": [
    "#### About tensors\n",
    "\n",
    "Documentation: https://pytorch.org/docs/stable/tensors.html\n",
    "\n",
    "Additional resources for understanding tensors:\n",
    "\n",
    "[1] https://towardsdatascience.com/better-visualizing-tensors-thanks-to-cities-b97e6b4ca2ca\n",
    "\n",
    "[2] https://www.youtube.com/watch?v=f5liqUk0ZTw\n",
    "\n",
    "[3] https://www.youtube.com/watch?v=bpG3gqDM80w\n",
    "\n",
    "[4] https://www.youtube.com/watch?v=YxXyN2ifK8A (best one in my opinion)\n",
    "\n",
    "Tensors are basically just a way to represent the data, and a tensor representation as matrixes and n-dim arrays is convenient way to do it. For example, if there's a tensor without any dimensions (ndim == 0) it means that's just a value a.k.a. \"scalar\". We can call it a \"rank zero\" tensor. Remember that matrixes are not tensors - it's just a way to represent them. In PyTorch it looks something like this:\n"
   ]
  },
  {
   "cell_type": "code",
   "execution_count": 11,
   "metadata": {},
   "outputs": [
    {
     "name": "stdout",
     "output_type": "stream",
     "text": [
      "tensor(5)\n",
      "0\n",
      "5\n"
     ]
    }
   ],
   "source": [
    "# Creating a scalar\n",
    "scalar = torch.tensor(5)\n",
    "\n",
    "# Checking if the scalar has been created correctly.\n",
    "print(scalar)\n",
    "\n",
    "# Checking scalar's number of dimensions (should be equal to 0)\n",
    "print(scalar.ndim)\n",
    "\n",
    "# Getting tensor's value as a python int (only doable with scalars)\n",
    "print(scalar.item())"
   ]
  },
  {
   "attachments": {},
   "cell_type": "markdown",
   "metadata": {},
   "source": [
    "But if we need more than one value to determine one object, like a vector, that contains x,y,z coordinates, we need to use a list. For example:"
   ]
  },
  {
   "cell_type": "code",
   "execution_count": 12,
   "metadata": {},
   "outputs": [
    {
     "name": "stdout",
     "output_type": "stream",
     "text": [
      "tensor([4, 4, 6])\n",
      "1\n"
     ]
    }
   ],
   "source": [
    "# Creating a vector\n",
    "vector = torch.tensor([4, 4, 6])\n",
    "\n",
    "# Checking if the vector has been created correctly.\n",
    "print(vector)\n",
    "\n",
    "# Checking vector's number of dimensions.\n",
    "print(vector.ndim)\n"
   ]
  },
  {
   "attachments": {},
   "cell_type": "markdown",
   "metadata": {},
   "source": [
    "As we can see the dimension now equals to one. That's because we have one square bracket list at value initialization. But one dimensional vector isn't really useful.\n",
    "In real case scenario, we would have a list of vectors. And a list of vectors is really a matrix.\n",
    "For example:"
   ]
  },
  {
   "cell_type": "code",
   "execution_count": 13,
   "metadata": {},
   "outputs": [
    {
     "name": "stdout",
     "output_type": "stream",
     "text": [
      "tensor([[4, 4, 7],\n",
      "        [5, 5, 8],\n",
      "        [6, 6, 9],\n",
      "        [7, 7, 3]])\n",
      "2\n"
     ]
    }
   ],
   "source": [
    "# Creating a MATRIX\n",
    "MATRIX = torch.tensor([[4, 4, 7],\n",
    "                        [5, 5, 8],\n",
    "                        [6, 6, 9],\n",
    "                        [7, 7, 3]])\n",
    "\n",
    "# Checking if the MATRIX has been created correctly.\n",
    "print(MATRIX)\n",
    "\n",
    "# Checking vector's number of dimensions. \n",
    "print(MATRIX.ndim)"
   ]
  },
  {
   "attachments": {},
   "cell_type": "markdown",
   "metadata": {},
   "source": [
    "But if we have a complicated structure that requires list of matrixes, it really means that we need store data in a 3-dimensional tensor. Real life example would be an image that has three channels: red, green, and blue. Each of the channels is a matrix that shows the intensity of each pixel in that channel. To describe the structure of the single image, we need each channel."
   ]
  },
  {
   "cell_type": "code",
   "execution_count": 14,
   "metadata": {},
   "outputs": [
    {
     "name": "stdout",
     "output_type": "stream",
     "text": [
      "tensor([[[1, 2, 3],\n",
      "         [5, 6, 7],\n",
      "         [7, 8, 9]]])\n",
      "3\n",
      "torch.Size([1, 3, 3])\n"
     ]
    }
   ],
   "source": [
    "# Creating a 3D vector (rank 1 tensor in 3 dimensions)\n",
    "TENSOR = torch.tensor([[[1, 2, 3],\n",
    "                        [5, 6, 7],\n",
    "                        [7, 8, 9]]])\n",
    "\n",
    "# Checking if the vector has been created correctly. \n",
    "print(TENSOR)\n",
    "\n",
    "# Checking vector's number of dimensions \n",
    "print(TENSOR.ndim)\n",
    "\n",
    "# Checking a size of a tensor \n",
    "print(TENSOR.shape)"
   ]
  },
  {
   "attachments": {},
   "cell_type": "markdown",
   "metadata": {},
   "source": [
    "So tensors are really an organized data structure, and they have as many rows and columns as there are needed to describe one object or a whole model."
   ]
  },
  {
   "attachments": {},
   "cell_type": "markdown",
   "metadata": {},
   "source": [
    "#### Random tensors\n",
    "\n",
    "The way that machine learning models are trained is by using random tensors. It is because they start with tensors full of random numbers and then they adjust their values to better fit the data.\n",
    "\n",
    "`Start with a random tensor -> look at the data -> adjust the values to better fit the data -> repeat the step 2 and 3 until you get right values`\n",
    "\n",
    "Torch random tensors: https://pytorch.org/docs/stable/generated/torch.rand.html "
   ]
  },
  {
   "cell_type": "code",
   "execution_count": 15,
   "metadata": {},
   "outputs": [
    {
     "name": "stdout",
     "output_type": "stream",
     "text": [
      "tensor([[0.1103, 0.0909, 0.5301, 0.0245],\n",
      "        [0.3747, 0.0146, 0.9193, 0.4621],\n",
      "        [0.3490, 0.2893, 0.9815, 0.7144]])\n",
      "torch.Size([3, 4])\n",
      "2\n"
     ]
    }
   ],
   "source": [
    "# Create random tensor \n",
    "random_tensor = torch.rand(3, 4)\n",
    "\n",
    "# Show random tensor\n",
    "print(random_tensor)\n",
    "\n",
    "# Show random tensor shape\n",
    "print(random_tensor.shape)\n",
    "\n",
    "# Show random tensor ndim\n",
    "print(random_tensor.ndim)"
   ]
  },
  {
   "cell_type": "code",
   "execution_count": 16,
   "metadata": {},
   "outputs": [
    {
     "name": "stdout",
     "output_type": "stream",
     "text": [
      "torch.Size([224, 224, 3])\n",
      "3\n"
     ]
    }
   ],
   "source": [
    "# Create a random tensor that is similar to an image tensor.\n",
    "random_image_tensor = torch.rand(size=(224, 224, 3)) # height, width, color channels (R, G, B)\n",
    "print(random_image_tensor.shape)\n",
    "print(random_image_tensor.ndim)"
   ]
  },
  {
   "attachments": {},
   "cell_type": "markdown",
   "metadata": {},
   "source": [
    "#### Zeros and ones"
   ]
  },
  {
   "cell_type": "code",
   "execution_count": 18,
   "metadata": {},
   "outputs": [
    {
     "name": "stdout",
     "output_type": "stream",
     "text": [
      "tensor([[0., 0., 0., 0.],\n",
      "        [0., 0., 0., 0.],\n",
      "        [0., 0., 0., 0.]])\n"
     ]
    }
   ],
   "source": [
    "# Create tensor of all zeros\n",
    "zeros = torch.zeros(3, 4)\n",
    "print(zeros)\n",
    "print(zeros * random_tensor)"
   ]
  },
  {
   "cell_type": "code",
   "execution_count": 21,
   "metadata": {},
   "outputs": [
    {
     "name": "stdout",
     "output_type": "stream",
     "text": [
      "tensor([[1., 1., 1., 1.],\n",
      "        [1., 1., 1., 1.],\n",
      "        [1., 1., 1., 1.]])\n",
      "torch.float32\n"
     ]
    }
   ],
   "source": [
    "# Create tensor of all ones \n",
    "ones = torch.ones(3, 4)\n",
    "print(ones)\n",
    "print(ones.dtype) #default type for pytorch is torch.float32\n"
   ]
  },
  {
   "attachments": {},
   "cell_type": "markdown",
   "metadata": {},
   "source": [
    "#### Creating range of tensors and tensors-like"
   ]
  },
  {
   "cell_type": "code",
   "execution_count": 24,
   "metadata": {},
   "outputs": [
    {
     "name": "stdout",
     "output_type": "stream",
     "text": [
      "tensor([0, 1, 2, 3, 4, 5, 6, 7, 8, 9])\n"
     ]
    }
   ],
   "source": [
    "# Use torch.arange()\n",
    "one_to_ten = torch.arange(0, 10) # torch.arange(start=0, end=11, step=2)\n",
    "print(one_to_ten)"
   ]
  },
  {
   "attachments": {},
   "cell_type": "markdown",
   "metadata": {},
   "source": [
    "If we have a tensor and we want to create another tensor that is the same shape as the original one, but filled with zeros/one, we can use zeros_like/ones/like method, like below:"
   ]
  },
  {
   "cell_type": "code",
   "execution_count": 25,
   "metadata": {},
   "outputs": [
    {
     "name": "stdout",
     "output_type": "stream",
     "text": [
      "tensor([0, 0, 0, 0, 0, 0, 0, 0, 0, 0])\n"
     ]
    }
   ],
   "source": [
    "# Creating tensor-like \n",
    "ten_zeros = torch.zeros_like(one_to_ten) # torch.ones_like(one_to_ten)\n",
    "print(ten_zeros)\n"
   ]
  }
 ],
 "metadata": {
  "kernelspec": {
   "display_name": "base",
   "language": "python",
   "name": "python3"
  },
  "language_info": {
   "codemirror_mode": {
    "name": "ipython",
    "version": 3
   },
   "file_extension": ".py",
   "mimetype": "text/x-python",
   "name": "python",
   "nbconvert_exporter": "python",
   "pygments_lexer": "ipython3",
   "version": "3.9.13"
  },
  "orig_nbformat": 4,
  "vscode": {
   "interpreter": {
    "hash": "a0dfddf38355eb1c7bbdbf09c07de05c9912bc8a91970103b0afd28feba3a117"
   }
  }
 },
 "nbformat": 4,
 "nbformat_minor": 2
}
